{
 "cells": [
  {
   "cell_type": "code",
   "execution_count": 1,
   "metadata": {},
   "outputs": [],
   "source": [
    "import pandas as pd\n",
    "import numpy as np\n",
    "import factor_analysis as fa"
   ]
  },
  {
   "cell_type": "code",
   "execution_count": 12,
   "metadata": {},
   "outputs": [],
   "source": [
    "factor = pd.read_excel('../data/factor.xlsx', index_col=0)"
   ]
  },
  {
   "cell_type": "code",
   "execution_count": 13,
   "metadata": {},
   "outputs": [],
   "source": [
    "factor.index.set_names(['date'], inplace=True)"
   ]
  },
  {
   "cell_type": "code",
   "execution_count": 14,
   "metadata": {},
   "outputs": [],
   "source": [
    "factor = factor.stack()"
   ]
  },
  {
   "cell_type": "code",
   "execution_count": 15,
   "metadata": {},
   "outputs": [],
   "source": [
    "factor = pd.DataFrame(factor)"
   ]
  },
  {
   "cell_type": "code",
   "execution_count": 16,
   "metadata": {},
   "outputs": [],
   "source": [
    "factor.index.set_names(['date', 'asset'], inplace=True)"
   ]
  },
  {
   "cell_type": "code",
   "execution_count": 17,
   "metadata": {},
   "outputs": [],
   "source": [
    "factor.columns = ['factor']"
   ]
  },
  {
   "cell_type": "code",
   "execution_count": 18,
   "metadata": {},
   "outputs": [
    {
     "data": {
      "text/html": [
       "<div>\n",
       "<style scoped>\n",
       "    .dataframe tbody tr th:only-of-type {\n",
       "        vertical-align: middle;\n",
       "    }\n",
       "\n",
       "    .dataframe tbody tr th {\n",
       "        vertical-align: top;\n",
       "    }\n",
       "\n",
       "    .dataframe thead th {\n",
       "        text-align: right;\n",
       "    }\n",
       "</style>\n",
       "<table border=\"1\" class=\"dataframe\">\n",
       "  <thead>\n",
       "    <tr style=\"text-align: right;\">\n",
       "      <th></th>\n",
       "      <th></th>\n",
       "      <th>factor</th>\n",
       "    </tr>\n",
       "    <tr>\n",
       "      <th>date</th>\n",
       "      <th>asset</th>\n",
       "      <th></th>\n",
       "    </tr>\n",
       "  </thead>\n",
       "  <tbody>\n",
       "    <tr>\n",
       "      <th rowspan=\"5\" valign=\"top\">2009-12-31</th>\n",
       "      <th>000016.SZ</th>\n",
       "      <td>3.9358</td>\n",
       "    </tr>\n",
       "    <tr>\n",
       "      <th>000404.SZ</th>\n",
       "      <td>17.8215</td>\n",
       "    </tr>\n",
       "    <tr>\n",
       "      <th>000521.SZ</th>\n",
       "      <td>25.2613</td>\n",
       "    </tr>\n",
       "    <tr>\n",
       "      <th>000541.SZ</th>\n",
       "      <td>8.0648</td>\n",
       "    </tr>\n",
       "    <tr>\n",
       "      <th>000651.SZ</th>\n",
       "      <td>33.6597</td>\n",
       "    </tr>\n",
       "    <tr>\n",
       "      <th>...</th>\n",
       "      <th>...</th>\n",
       "      <td>...</td>\n",
       "    </tr>\n",
       "    <tr>\n",
       "      <th rowspan=\"5\" valign=\"top\">2020-09-30</th>\n",
       "      <th>600651.SH</th>\n",
       "      <td>107.6888</td>\n",
       "    </tr>\n",
       "    <tr>\n",
       "      <th>600690.SH</th>\n",
       "      <td>12.8154</td>\n",
       "    </tr>\n",
       "    <tr>\n",
       "      <th>600839.SH</th>\n",
       "      <td>-1.0119</td>\n",
       "    </tr>\n",
       "    <tr>\n",
       "      <th>600854.SH</th>\n",
       "      <td>2.6594</td>\n",
       "    </tr>\n",
       "    <tr>\n",
       "      <th>600983.SH</th>\n",
       "      <td>-3.0961</td>\n",
       "    </tr>\n",
       "  </tbody>\n",
       "</table>\n",
       "<p>990 rows × 1 columns</p>\n",
       "</div>"
      ],
      "text/plain": [
       "                        factor\n",
       "date       asset              \n",
       "2009-12-31 000016.SZ    3.9358\n",
       "           000404.SZ   17.8215\n",
       "           000521.SZ   25.2613\n",
       "           000541.SZ    8.0648\n",
       "           000651.SZ   33.6597\n",
       "...                        ...\n",
       "2020-09-30 600651.SH  107.6888\n",
       "           600690.SH   12.8154\n",
       "           600839.SH   -1.0119\n",
       "           600854.SH    2.6594\n",
       "           600983.SH   -3.0961\n",
       "\n",
       "[990 rows x 1 columns]"
      ]
     },
     "execution_count": 18,
     "metadata": {},
     "output_type": "execute_result"
    }
   ],
   "source": [
    "factor"
   ]
  },
  {
   "cell_type": "code",
   "execution_count": 19,
   "metadata": {},
   "outputs": [],
   "source": [
    "prices = pd.read_excel('../data/prices.xlsx', index_col=0)"
   ]
  },
  {
   "cell_type": "code",
   "execution_count": 20,
   "metadata": {},
   "outputs": [
    {
     "data": {
      "text/plain": [
       "44"
      ]
     },
     "execution_count": 20,
     "metadata": {},
     "output_type": "execute_result"
    }
   ],
   "source": [
    "prices.shape[0]"
   ]
  },
  {
   "cell_type": "code",
   "execution_count": 21,
   "metadata": {},
   "outputs": [
    {
     "data": {
      "text/html": [
       "<div>\n",
       "<style scoped>\n",
       "    .dataframe tbody tr th:only-of-type {\n",
       "        vertical-align: middle;\n",
       "    }\n",
       "\n",
       "    .dataframe tbody tr th {\n",
       "        vertical-align: top;\n",
       "    }\n",
       "\n",
       "    .dataframe thead th {\n",
       "        text-align: right;\n",
       "    }\n",
       "</style>\n",
       "<table border=\"1\" class=\"dataframe\">\n",
       "  <thead>\n",
       "    <tr style=\"text-align: right;\">\n",
       "      <th></th>\n",
       "      <th></th>\n",
       "      <th>1Q</th>\n",
       "      <th>2Q</th>\n",
       "    </tr>\n",
       "    <tr>\n",
       "      <th>date</th>\n",
       "      <th>asset</th>\n",
       "      <th></th>\n",
       "      <th></th>\n",
       "    </tr>\n",
       "  </thead>\n",
       "  <tbody>\n",
       "    <tr>\n",
       "      <th rowspan=\"5\" valign=\"top\">2009-12-31</th>\n",
       "      <th>000016.SZ</th>\n",
       "      <td>0.029909</td>\n",
       "      <td>-0.381014</td>\n",
       "    </tr>\n",
       "    <tr>\n",
       "      <th>000404.SZ</th>\n",
       "      <td>0.217494</td>\n",
       "      <td>0.228132</td>\n",
       "    </tr>\n",
       "    <tr>\n",
       "      <th>000521.SZ</th>\n",
       "      <td>-0.133283</td>\n",
       "      <td>-0.334349</td>\n",
       "    </tr>\n",
       "    <tr>\n",
       "      <th>000541.SZ</th>\n",
       "      <td>0.236766</td>\n",
       "      <td>0.143407</td>\n",
       "    </tr>\n",
       "    <tr>\n",
       "      <th>000651.SZ</th>\n",
       "      <td>-0.025570</td>\n",
       "      <td>-0.350380</td>\n",
       "    </tr>\n",
       "    <tr>\n",
       "      <th>...</th>\n",
       "      <th>...</th>\n",
       "      <td>...</td>\n",
       "      <td>...</td>\n",
       "    </tr>\n",
       "    <tr>\n",
       "      <th rowspan=\"5\" valign=\"top\">2020-09-30</th>\n",
       "      <th>600651.SH</th>\n",
       "      <td>NaN</td>\n",
       "      <td>NaN</td>\n",
       "    </tr>\n",
       "    <tr>\n",
       "      <th>600690.SH</th>\n",
       "      <td>NaN</td>\n",
       "      <td>NaN</td>\n",
       "    </tr>\n",
       "    <tr>\n",
       "      <th>600839.SH</th>\n",
       "      <td>NaN</td>\n",
       "      <td>NaN</td>\n",
       "    </tr>\n",
       "    <tr>\n",
       "      <th>600854.SH</th>\n",
       "      <td>NaN</td>\n",
       "      <td>NaN</td>\n",
       "    </tr>\n",
       "    <tr>\n",
       "      <th>600983.SH</th>\n",
       "      <td>NaN</td>\n",
       "      <td>NaN</td>\n",
       "    </tr>\n",
       "  </tbody>\n",
       "</table>\n",
       "<p>990 rows × 2 columns</p>\n",
       "</div>"
      ],
      "text/plain": [
       "                            1Q        2Q\n",
       "date       asset                        \n",
       "2009-12-31 000016.SZ  0.029909 -0.381014\n",
       "           000404.SZ  0.217494  0.228132\n",
       "           000521.SZ -0.133283 -0.334349\n",
       "           000541.SZ  0.236766  0.143407\n",
       "           000651.SZ -0.025570 -0.350380\n",
       "...                        ...       ...\n",
       "2020-09-30 600651.SH       NaN       NaN\n",
       "           600690.SH       NaN       NaN\n",
       "           600839.SH       NaN       NaN\n",
       "           600854.SH       NaN       NaN\n",
       "           600983.SH       NaN       NaN\n",
       "\n",
       "[990 rows x 2 columns]"
      ]
     },
     "execution_count": 21,
     "metadata": {},
     "output_type": "execute_result"
    }
   ],
   "source": [
    "fa.utils.compute_forward_returns(factor, prices, periods=(1,2))"
   ]
  },
  {
   "cell_type": "code",
   "execution_count": null,
   "metadata": {},
   "outputs": [],
   "source": []
  }
 ],
 "metadata": {
  "kernelspec": {
   "display_name": "Python 3",
   "language": "python",
   "name": "python3"
  },
  "language_info": {
   "codemirror_mode": {
    "name": "ipython",
    "version": 3
   },
   "file_extension": ".py",
   "mimetype": "text/x-python",
   "name": "python",
   "nbconvert_exporter": "python",
   "pygments_lexer": "ipython3",
   "version": "3.6.5"
  }
 },
 "nbformat": 4,
 "nbformat_minor": 2
}
