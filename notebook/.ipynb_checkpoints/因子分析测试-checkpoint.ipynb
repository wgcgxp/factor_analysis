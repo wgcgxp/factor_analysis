{
 "cells": [
  {
   "cell_type": "code",
   "execution_count": 1,
   "metadata": {},
   "outputs": [
    {
     "name": "stderr",
     "output_type": "stream",
     "text": [
      "C:\\Users\\zhangyang01\\AppData\\Local\\Continuum\\anaconda2\\envs\\py36\\lib\\site-packages\\pandas_datareader\\compat\\__init__.py:7: FutureWarning: pandas.util.testing is deprecated. Use the functions in the public API at pandas.testing instead.\n",
      "  from pandas.util.testing import assert_frame_equal\n",
      "C:\\Users\\zhangyang01\\AppData\\Local\\Continuum\\anaconda2\\envs\\py36\\lib\\site-packages\\empyrical\\utils.py:32: UserWarning: Unable to import pandas_datareader. Suppressing import error and continuing. All data reading functionality will raise errors; but has been deprecated and will be removed in a later version.\n",
      "  warnings.warn(msg)\n"
     ]
    }
   ],
   "source": [
    "import pandas as pd\n",
    "import numpy as np\n",
    "import factor_analysis as fa\n",
    "import alphalens"
   ]
  },
  {
   "cell_type": "code",
   "execution_count": 2,
   "metadata": {},
   "outputs": [],
   "source": [
    "factor = pd.read_excel('../data/factor_monthly.xlsx', index_col=0)"
   ]
  },
  {
   "cell_type": "code",
   "execution_count": 3,
   "metadata": {},
   "outputs": [],
   "source": [
    "factor.index.set_names(['date'], inplace=True)"
   ]
  },
  {
   "cell_type": "code",
   "execution_count": 4,
   "metadata": {},
   "outputs": [],
   "source": [
    "factor = factor.stack()"
   ]
  },
  {
   "cell_type": "code",
   "execution_count": 5,
   "metadata": {},
   "outputs": [],
   "source": [
    "factor.index.set_names(['date', 'asset'], inplace=True)"
   ]
  },
  {
   "cell_type": "code",
   "execution_count": 7,
   "metadata": {},
   "outputs": [
    {
     "data": {
      "text/plain": [
       "date        asset    \n",
       "2015-12-31  000016.SZ   -0.261939\n",
       "            000333.SZ   -0.060024\n",
       "            000404.SZ   -0.097326\n",
       "            000521.SZ   -0.210959\n",
       "            000541.SZ   -0.425749\n",
       "                           ...   \n",
       "2020-06-30  600854.SH    0.042929\n",
       "            600983.SH    0.536842\n",
       "            603311.SH    0.380294\n",
       "            603355.SH    0.406589\n",
       "            603366.SH   -0.096257\n",
       "Length: 2805, dtype: float64"
      ]
     },
     "execution_count": 7,
     "metadata": {},
     "output_type": "execute_result"
    }
   ],
   "source": [
    "factor"
   ]
  },
  {
   "cell_type": "code",
   "execution_count": 8,
   "metadata": {},
   "outputs": [],
   "source": [
    "prices = pd.read_excel('../data/prices_monthly.xlsx', index_col=0)"
   ]
  },
  {
   "cell_type": "code",
   "execution_count": 12,
   "metadata": {},
   "outputs": [
    {
     "name": "stdout",
     "output_type": "stream",
     "text": [
      "Dropped 0.0% entries from factor data: 0.0% in forward returns computation and 0.0% in binning phase (set max_loss=0 to see potentially suppressed Exceptions).\n",
      "max_loss is 35.0%, not exceeded: OK!\n"
     ]
    }
   ],
   "source": [
    "factor_data = fa.utils.get_clean_factor_and_forward_returns(factor, prices, periods=(1,2,3))"
   ]
  },
  {
   "cell_type": "code",
   "execution_count": 13,
   "metadata": {},
   "outputs": [
    {
     "data": {
      "text/html": [
       "<div>\n",
       "<style scoped>\n",
       "    .dataframe tbody tr th:only-of-type {\n",
       "        vertical-align: middle;\n",
       "    }\n",
       "\n",
       "    .dataframe tbody tr th {\n",
       "        vertical-align: top;\n",
       "    }\n",
       "\n",
       "    .dataframe thead th {\n",
       "        text-align: right;\n",
       "    }\n",
       "</style>\n",
       "<table border=\"1\" class=\"dataframe\">\n",
       "  <thead>\n",
       "    <tr style=\"text-align: right;\">\n",
       "      <th></th>\n",
       "      <th></th>\n",
       "      <th>1M</th>\n",
       "      <th>2M</th>\n",
       "      <th>3M</th>\n",
       "      <th>factor</th>\n",
       "      <th>factor_quantile</th>\n",
       "    </tr>\n",
       "    <tr>\n",
       "      <th>date</th>\n",
       "      <th>asset</th>\n",
       "      <th></th>\n",
       "      <th></th>\n",
       "      <th></th>\n",
       "      <th></th>\n",
       "      <th></th>\n",
       "    </tr>\n",
       "  </thead>\n",
       "  <tbody>\n",
       "    <tr>\n",
       "      <th rowspan=\"5\" valign=\"top\">2015-12-31</th>\n",
       "      <th>000016.SZ</th>\n",
       "      <td>-0.399421</td>\n",
       "      <td>-0.289436</td>\n",
       "      <td>-0.261939</td>\n",
       "      <td>-0.261939</td>\n",
       "      <td>2</td>\n",
       "    </tr>\n",
       "    <tr>\n",
       "      <th>000333.SZ</th>\n",
       "      <td>-0.167885</td>\n",
       "      <td>-0.205667</td>\n",
       "      <td>-0.060024</td>\n",
       "      <td>-0.060024</td>\n",
       "      <td>5</td>\n",
       "    </tr>\n",
       "    <tr>\n",
       "      <th>000404.SZ</th>\n",
       "      <td>-0.284492</td>\n",
       "      <td>-0.274866</td>\n",
       "      <td>-0.097326</td>\n",
       "      <td>-0.097326</td>\n",
       "      <td>5</td>\n",
       "    </tr>\n",
       "    <tr>\n",
       "      <th>000521.SZ</th>\n",
       "      <td>-0.275342</td>\n",
       "      <td>-0.326027</td>\n",
       "      <td>-0.210959</td>\n",
       "      <td>-0.210959</td>\n",
       "      <td>3</td>\n",
       "    </tr>\n",
       "    <tr>\n",
       "      <th>000541.SZ</th>\n",
       "      <td>-0.456886</td>\n",
       "      <td>-0.501198</td>\n",
       "      <td>-0.425749</td>\n",
       "      <td>-0.425749</td>\n",
       "      <td>1</td>\n",
       "    </tr>\n",
       "    <tr>\n",
       "      <th>...</th>\n",
       "      <th>...</th>\n",
       "      <td>...</td>\n",
       "      <td>...</td>\n",
       "      <td>...</td>\n",
       "      <td>...</td>\n",
       "      <td>...</td>\n",
       "    </tr>\n",
       "    <tr>\n",
       "      <th rowspan=\"5\" valign=\"top\">2020-06-30</th>\n",
       "      <th>600854.SH</th>\n",
       "      <td>0.060606</td>\n",
       "      <td>0.075758</td>\n",
       "      <td>0.042929</td>\n",
       "      <td>0.042929</td>\n",
       "      <td>2</td>\n",
       "    </tr>\n",
       "    <tr>\n",
       "      <th>600983.SH</th>\n",
       "      <td>0.071579</td>\n",
       "      <td>0.776842</td>\n",
       "      <td>0.536842</td>\n",
       "      <td>0.536842</td>\n",
       "      <td>5</td>\n",
       "    </tr>\n",
       "    <tr>\n",
       "      <th>603311.SH</th>\n",
       "      <td>0.188418</td>\n",
       "      <td>0.179775</td>\n",
       "      <td>0.380294</td>\n",
       "      <td>0.380294</td>\n",
       "      <td>5</td>\n",
       "    </tr>\n",
       "    <tr>\n",
       "      <th>603355.SH</th>\n",
       "      <td>0.074729</td>\n",
       "      <td>0.234231</td>\n",
       "      <td>0.406589</td>\n",
       "      <td>0.406589</td>\n",
       "      <td>5</td>\n",
       "    </tr>\n",
       "    <tr>\n",
       "      <th>603366.SH</th>\n",
       "      <td>0.016043</td>\n",
       "      <td>-0.021390</td>\n",
       "      <td>-0.096257</td>\n",
       "      <td>-0.096257</td>\n",
       "      <td>1</td>\n",
       "    </tr>\n",
       "  </tbody>\n",
       "</table>\n",
       "<p>2805 rows × 5 columns</p>\n",
       "</div>"
      ],
      "text/plain": [
       "                            1M        2M        3M    factor  factor_quantile\n",
       "date       asset                                                             \n",
       "2015-12-31 000016.SZ -0.399421 -0.289436 -0.261939 -0.261939                2\n",
       "           000333.SZ -0.167885 -0.205667 -0.060024 -0.060024                5\n",
       "           000404.SZ -0.284492 -0.274866 -0.097326 -0.097326                5\n",
       "           000521.SZ -0.275342 -0.326027 -0.210959 -0.210959                3\n",
       "           000541.SZ -0.456886 -0.501198 -0.425749 -0.425749                1\n",
       "...                        ...       ...       ...       ...              ...\n",
       "2020-06-30 600854.SH  0.060606  0.075758  0.042929  0.042929                2\n",
       "           600983.SH  0.071579  0.776842  0.536842  0.536842                5\n",
       "           603311.SH  0.188418  0.179775  0.380294  0.380294                5\n",
       "           603355.SH  0.074729  0.234231  0.406589  0.406589                5\n",
       "           603366.SH  0.016043 -0.021390 -0.096257 -0.096257                1\n",
       "\n",
       "[2805 rows x 5 columns]"
      ]
     },
     "execution_count": 13,
     "metadata": {},
     "output_type": "execute_result"
    }
   ],
   "source": [
    "factor_data"
   ]
  },
  {
   "cell_type": "code",
   "execution_count": null,
   "metadata": {},
   "outputs": [],
   "source": []
  }
 ],
 "metadata": {
  "kernelspec": {
   "display_name": "Python 3",
   "language": "python",
   "name": "python3"
  },
  "language_info": {
   "codemirror_mode": {
    "name": "ipython",
    "version": 3
   },
   "file_extension": ".py",
   "mimetype": "text/x-python",
   "name": "python",
   "nbconvert_exporter": "python",
   "pygments_lexer": "ipython3",
   "version": "3.6.5"
  }
 },
 "nbformat": 4,
 "nbformat_minor": 2
}
